{
 "cells": [
  {
   "cell_type": "markdown",
   "id": "be9389a5",
   "metadata": {},
   "source": [
    "# Python数据分析第一次作业（2024春）\n",
    "各位同学好！本Jupyter notebook文件包括2024春《Python数据分析》第一次作业的全部题目。<br />\n",
    "本作业使用Amazon Sale数据集。Amazon是美国最大的电子商务交易网站，本数据集有助于深入了解电子商务销售的盈利能力。它包含各种销售渠道的数据，以及相关费用和利润的财务信息。数据列包含SKU代码、库存级别、产品类别等数据。此外，数据采集人员还添加了交易参数，如B2B状态、成交金额的销售情况。<br />\n",
    "本数据集经下载整理后包含该网站2022年4至6月的销售数据。<br />\n",
    "\n",
    "本次作业满分为10分，各题具体分值已在每道题目后给出。作业整体要求具体如下，不符合要求将另外扣分：<br />\n",
    "1.请将【所有代码和文字】写在本jupyter notebook中，并只在教学网上提交这一个.ipynb文件。命名为【学号-姓名】，例如2100016666-张三.ipynb。<br />\n",
    "2.请保证提交的notebook可完整运行，提交【按顺序全部运行后】的文件。<br />\n",
    "3.请保证代码的【可读性】，并适当添加【注释】说明代码功能。<br />\n",
    "4.部分题目会要求【说明结果】，请用文字对运行结果做简要说明，解释输出内容的含义。"
   ]
  },
  {
   "cell_type": "code",
   "execution_count": null,
   "id": "374ec18d",
   "metadata": {},
   "outputs": [],
   "source": []
  },
  {
   "cell_type": "markdown",
   "id": "a0185b33",
   "metadata": {},
   "source": [
    "## 数据集各字段释义：\n",
    "'Category'：Type of product.<br />\n",
    "'Size'：Size of the product.<br />\n",
    "'Date'：Date of the sale. <br />\n",
    "'Status'：Status of the sale. <br />\n",
    "'Fulfilment'：Method of fulfilment. <br />\n",
    "'Style'：Style of the product. <br />\n",
    "'SKU'：Stock Keeping Unit.【tips:该字段作为判断单个商品的ID】<br />\n",
    "'ASIN'：Amazon Standard Identification Number. <br />\n",
    "'Courier Status'：Status of the courier. <br />\n",
    "'Qty'：Quantity of the product. <br />\n",
    "'Amount'：Amount of the sale. <br />\n",
    "'B2B'：Business to business sale. <br />\n",
    "'Currency'：The currency used for the sale.<br />"
   ]
  },
  {
   "cell_type": "markdown",
   "id": "ffaa6350",
   "metadata": {},
   "source": [
    "## 1. 导入'Amazon Sale Report.csv'，并将DataFrame命名为'sale_data',显示前5行（0.5分）"
   ]
  },
  {
   "cell_type": "code",
   "execution_count": 2,
   "id": "472e5ece",
   "metadata": {},
   "outputs": [
    {
     "data": {
      "text/html": [
       "<div>\n",
       "<style scoped>\n",
       "    .dataframe tbody tr th:only-of-type {\n",
       "        vertical-align: middle;\n",
       "    }\n",
       "\n",
       "    .dataframe tbody tr th {\n",
       "        vertical-align: top;\n",
       "    }\n",
       "\n",
       "    .dataframe thead th {\n",
       "        text-align: right;\n",
       "    }\n",
       "</style>\n",
       "<table border=\"1\" class=\"dataframe\">\n",
       "  <thead>\n",
       "    <tr style=\"text-align: right;\">\n",
       "      <th></th>\n",
       "      <th>Order ID</th>\n",
       "      <th>Date</th>\n",
       "      <th>Status</th>\n",
       "      <th>Fulfilment</th>\n",
       "      <th>Sales Channel</th>\n",
       "      <th>ship-service-level</th>\n",
       "      <th>Style</th>\n",
       "      <th>SKU</th>\n",
       "      <th>Category</th>\n",
       "      <th>Size</th>\n",
       "      <th>...</th>\n",
       "      <th>Courier Status</th>\n",
       "      <th>Qty</th>\n",
       "      <th>currency</th>\n",
       "      <th>Amount</th>\n",
       "      <th>ship-city</th>\n",
       "      <th>ship-state</th>\n",
       "      <th>ship-postal-code</th>\n",
       "      <th>ship-country</th>\n",
       "      <th>B2B</th>\n",
       "      <th>fulfilled-by</th>\n",
       "    </tr>\n",
       "  </thead>\n",
       "  <tbody>\n",
       "    <tr>\n",
       "      <th>0</th>\n",
       "      <td>405-8078784-5731545</td>\n",
       "      <td>04-30-22</td>\n",
       "      <td>Cancelled</td>\n",
       "      <td>Merchant</td>\n",
       "      <td>Amazon.in</td>\n",
       "      <td>Standard</td>\n",
       "      <td>SET389</td>\n",
       "      <td>SET389-KR-NP-S</td>\n",
       "      <td>Set</td>\n",
       "      <td>S</td>\n",
       "      <td>...</td>\n",
       "      <td>NaN</td>\n",
       "      <td>0</td>\n",
       "      <td>INR</td>\n",
       "      <td>647.62</td>\n",
       "      <td>MUMBAI</td>\n",
       "      <td>MAHARASHTRA</td>\n",
       "      <td>400081.0</td>\n",
       "      <td>IN</td>\n",
       "      <td>False</td>\n",
       "      <td>Easy Ship</td>\n",
       "    </tr>\n",
       "    <tr>\n",
       "      <th>1</th>\n",
       "      <td>171-9198151-1101146</td>\n",
       "      <td>04-30-22</td>\n",
       "      <td>Shipped - Delivered to Buyer</td>\n",
       "      <td>Merchant</td>\n",
       "      <td>Amazon.in</td>\n",
       "      <td>Standard</td>\n",
       "      <td>JNE3781</td>\n",
       "      <td>JNE3781-KR-XXXL</td>\n",
       "      <td>kurta</td>\n",
       "      <td>3XL</td>\n",
       "      <td>...</td>\n",
       "      <td>Shipped</td>\n",
       "      <td>1</td>\n",
       "      <td>INR</td>\n",
       "      <td>406.00</td>\n",
       "      <td>BENGALURU</td>\n",
       "      <td>KARNATAKA</td>\n",
       "      <td>560085.0</td>\n",
       "      <td>IN</td>\n",
       "      <td>False</td>\n",
       "      <td>Easy Ship</td>\n",
       "    </tr>\n",
       "    <tr>\n",
       "      <th>2</th>\n",
       "      <td>404-0687676-7273146</td>\n",
       "      <td>04-30-22</td>\n",
       "      <td>Shipped</td>\n",
       "      <td>Amazon</td>\n",
       "      <td>Amazon.in</td>\n",
       "      <td>Expedited</td>\n",
       "      <td>JNE3371</td>\n",
       "      <td>JNE3371-KR-XL</td>\n",
       "      <td>kurta</td>\n",
       "      <td>XL</td>\n",
       "      <td>...</td>\n",
       "      <td>Shipped</td>\n",
       "      <td>1</td>\n",
       "      <td>INR</td>\n",
       "      <td>329.00</td>\n",
       "      <td>NAVI MUMBAI</td>\n",
       "      <td>MAHARASHTRA</td>\n",
       "      <td>410210.0</td>\n",
       "      <td>IN</td>\n",
       "      <td>True</td>\n",
       "      <td>NaN</td>\n",
       "    </tr>\n",
       "    <tr>\n",
       "      <th>3</th>\n",
       "      <td>403-9615377-8133951</td>\n",
       "      <td>04-30-22</td>\n",
       "      <td>Cancelled</td>\n",
       "      <td>Merchant</td>\n",
       "      <td>Amazon.in</td>\n",
       "      <td>Standard</td>\n",
       "      <td>J0341</td>\n",
       "      <td>J0341-DR-L</td>\n",
       "      <td>Western Dress</td>\n",
       "      <td>L</td>\n",
       "      <td>...</td>\n",
       "      <td>NaN</td>\n",
       "      <td>0</td>\n",
       "      <td>INR</td>\n",
       "      <td>753.33</td>\n",
       "      <td>PUDUCHERRY</td>\n",
       "      <td>PUDUCHERRY</td>\n",
       "      <td>605008.0</td>\n",
       "      <td>IN</td>\n",
       "      <td>False</td>\n",
       "      <td>Easy Ship</td>\n",
       "    </tr>\n",
       "    <tr>\n",
       "      <th>4</th>\n",
       "      <td>407-1069790-7240320</td>\n",
       "      <td>04-30-22</td>\n",
       "      <td>Shipped</td>\n",
       "      <td>Amazon</td>\n",
       "      <td>Amazon.in</td>\n",
       "      <td>Expedited</td>\n",
       "      <td>JNE3671</td>\n",
       "      <td>JNE3671-TU-XXXL</td>\n",
       "      <td>Top</td>\n",
       "      <td>3XL</td>\n",
       "      <td>...</td>\n",
       "      <td>Shipped</td>\n",
       "      <td>1</td>\n",
       "      <td>INR</td>\n",
       "      <td>574.00</td>\n",
       "      <td>CHENNAI</td>\n",
       "      <td>TAMIL NADU</td>\n",
       "      <td>600073.0</td>\n",
       "      <td>IN</td>\n",
       "      <td>False</td>\n",
       "      <td>NaN</td>\n",
       "    </tr>\n",
       "  </tbody>\n",
       "</table>\n",
       "<p>5 rows × 21 columns</p>\n",
       "</div>"
      ],
      "text/plain": [
       "              Order ID      Date                        Status Fulfilment  \\\n",
       "0  405-8078784-5731545  04-30-22                     Cancelled   Merchant   \n",
       "1  171-9198151-1101146  04-30-22  Shipped - Delivered to Buyer   Merchant   \n",
       "2  404-0687676-7273146  04-30-22                       Shipped     Amazon   \n",
       "3  403-9615377-8133951  04-30-22                     Cancelled   Merchant   \n",
       "4  407-1069790-7240320  04-30-22                       Shipped     Amazon   \n",
       "\n",
       "  Sales Channel ship-service-level    Style              SKU       Category  \\\n",
       "0     Amazon.in           Standard   SET389   SET389-KR-NP-S            Set   \n",
       "1     Amazon.in           Standard  JNE3781  JNE3781-KR-XXXL          kurta   \n",
       "2     Amazon.in          Expedited  JNE3371    JNE3371-KR-XL          kurta   \n",
       "3     Amazon.in           Standard    J0341       J0341-DR-L  Western Dress   \n",
       "4     Amazon.in          Expedited  JNE3671  JNE3671-TU-XXXL            Top   \n",
       "\n",
       "  Size  ... Courier Status Qty  currency  Amount    ship-city   ship-state  \\\n",
       "0    S  ...            NaN   0       INR  647.62       MUMBAI  MAHARASHTRA   \n",
       "1  3XL  ...        Shipped   1       INR  406.00    BENGALURU    KARNATAKA   \n",
       "2   XL  ...        Shipped   1       INR  329.00  NAVI MUMBAI  MAHARASHTRA   \n",
       "3    L  ...            NaN   0       INR  753.33   PUDUCHERRY   PUDUCHERRY   \n",
       "4  3XL  ...        Shipped   1       INR  574.00      CHENNAI   TAMIL NADU   \n",
       "\n",
       "  ship-postal-code  ship-country    B2B  fulfilled-by  \n",
       "0         400081.0            IN  False     Easy Ship  \n",
       "1         560085.0            IN  False     Easy Ship  \n",
       "2         410210.0            IN   True           NaN  \n",
       "3         605008.0            IN  False     Easy Ship  \n",
       "4         600073.0            IN  False           NaN  \n",
       "\n",
       "[5 rows x 21 columns]"
      ]
     },
     "execution_count": 2,
     "metadata": {},
     "output_type": "execute_result"
    }
   ],
   "source": [
    "import pandas as pd\n",
    "import numpy as np\n",
    "sale_data = pd.read_csv('Amazon Sale Report(1).csv')\n",
    "sale_data.head(5)"
   ]
  },
  {
   "cell_type": "markdown",
   "id": "da511374",
   "metadata": {},
   "source": [
    "## 2.检查各字段的数据类型以及非空值的数量。（0.5分）"
   ]
  },
  {
   "cell_type": "code",
   "execution_count": 3,
   "id": "16197f58",
   "metadata": {},
   "outputs": [
    {
     "data": {
      "text/plain": [
       "Order ID               object\n",
       "Date                   object\n",
       "Status                 object\n",
       "Fulfilment             object\n",
       "Sales Channel          object\n",
       "ship-service-level     object\n",
       "Style                  object\n",
       "SKU                    object\n",
       "Category               object\n",
       "Size                   object\n",
       "ASIN                   object\n",
       "Courier Status         object\n",
       "Qty                     int64\n",
       "currency               object\n",
       "Amount                float64\n",
       "ship-city              object\n",
       "ship-state             object\n",
       "ship-postal-code      float64\n",
       "ship-country           object\n",
       "B2B                      bool\n",
       "fulfilled-by           object\n",
       "dtype: object"
      ]
     },
     "execution_count": 3,
     "metadata": {},
     "output_type": "execute_result"
    }
   ],
   "source": [
    "sale_data.dtypes"
   ]
  },
  {
   "cell_type": "code",
   "execution_count": 4,
   "id": "1b352f8a",
   "metadata": {},
   "outputs": [
    {
     "data": {
      "text/plain": [
       "Order ID              73695\n",
       "Date                  73695\n",
       "Status                73695\n",
       "Fulfilment            73695\n",
       "Sales Channel         73695\n",
       "ship-service-level    73695\n",
       "Style                 73695\n",
       "SKU                   73695\n",
       "Category              73695\n",
       "Size                  73695\n",
       "ASIN                  73695\n",
       "Courier Status        69458\n",
       "Qty                   73695\n",
       "currency              69258\n",
       "Amount                69258\n",
       "ship-city             73681\n",
       "ship-state            73681\n",
       "ship-postal-code      73681\n",
       "ship-country          73681\n",
       "B2B                   73695\n",
       "fulfilled-by          24355\n",
       "dtype: int64"
      ]
     },
     "execution_count": 4,
     "metadata": {},
     "output_type": "execute_result"
    }
   ],
   "source": [
    "sale_data.count()"
   ]
  },
  {
   "cell_type": "markdown",
   "id": "6c650291",
   "metadata": {},
   "source": [
    "## 3.统计各个字段的缺失值比例，转为百分比形式，保留两位小数（0.5分）"
   ]
  },
  {
   "cell_type": "code",
   "execution_count": 5,
   "id": "016b8954",
   "metadata": {},
   "outputs": [
    {
     "data": {
      "text/plain": [
       "Order ID               0.00%\n",
       "Date                   0.00%\n",
       "Status                 0.00%\n",
       "Fulfilment             0.00%\n",
       "Sales Channel          0.00%\n",
       "ship-service-level     0.00%\n",
       "Style                  0.00%\n",
       "SKU                    0.00%\n",
       "Category               0.00%\n",
       "Size                   0.00%\n",
       "ASIN                   0.00%\n",
       "Courier Status         5.75%\n",
       "Qty                    0.00%\n",
       "currency               6.02%\n",
       "Amount                 6.02%\n",
       "ship-city              0.02%\n",
       "ship-state             0.02%\n",
       "ship-postal-code       0.02%\n",
       "ship-country           0.02%\n",
       "B2B                    0.00%\n",
       "fulfilled-by          66.95%\n",
       "dtype: object"
      ]
     },
     "execution_count": 5,
     "metadata": {},
     "output_type": "execute_result"
    }
   ],
   "source": [
    "(sale_data.isnull().sum(axis=0)/sale_data.shape[0]).map(lambda x:'%.2f%%' % (x*100))"
   ]
  },
  {
   "cell_type": "markdown",
   "id": "c1026ab4",
   "metadata": {},
   "source": [
    "## 4. 删除'Courier Status'列中取值为Cancelled和NaN的订单（0.5分）"
   ]
  },
  {
   "cell_type": "code",
   "execution_count": 6,
   "id": "f178031d",
   "metadata": {},
   "outputs": [],
   "source": [
    "sale_data = sale_data[~(sale_data['Courier Status'].isin([np.nan,'Cancelled']))]"
   ]
  },
  {
   "cell_type": "markdown",
   "id": "628f5285",
   "metadata": {},
   "source": [
    "## 5. 统计销售金额（Amount）为NaN的订单状态（status）如何？然后将取值为空的Amount设置为0。（1分）"
   ]
  },
  {
   "cell_type": "code",
   "execution_count": 7,
   "id": "fbab83e9",
   "metadata": {},
   "outputs": [
    {
     "data": {
      "text/plain": [
       "Status\n",
       "Shipped      67\n",
       "Shipping      8\n",
       "Cancelled     1\n",
       "Name: count, dtype: int64"
      ]
     },
     "execution_count": 7,
     "metadata": {},
     "output_type": "execute_result"
    }
   ],
   "source": [
    "sale_data[sale_data['Amount'].isnull()]['Status'].value_counts()\n"
   ]
  },
  {
   "cell_type": "code",
   "execution_count": 8,
   "id": "03f230e2",
   "metadata": {},
   "outputs": [
    {
     "name": "stderr",
     "output_type": "stream",
     "text": [
      "C:\\Users\\lenovo\\AppData\\Local\\Temp\\ipykernel_18752\\1547656172.py:1: FutureWarning: A value is trying to be set on a copy of a DataFrame or Series through chained assignment using an inplace method.\n",
      "The behavior will change in pandas 3.0. This inplace method will never work because the intermediate object on which we are setting values always behaves as a copy.\n",
      "\n",
      "For example, when doing 'df[col].method(value, inplace=True)', try using 'df.method({col: value}, inplace=True)' or df[col] = df[col].method(value) instead, to perform the operation inplace on the original object.\n",
      "\n",
      "\n",
      "  sale_data['Amount'].fillna(value=0,inplace=True)\n"
     ]
    },
    {
     "data": {
      "text/html": [
       "<div>\n",
       "<style scoped>\n",
       "    .dataframe tbody tr th:only-of-type {\n",
       "        vertical-align: middle;\n",
       "    }\n",
       "\n",
       "    .dataframe tbody tr th {\n",
       "        vertical-align: top;\n",
       "    }\n",
       "\n",
       "    .dataframe thead th {\n",
       "        text-align: right;\n",
       "    }\n",
       "</style>\n",
       "<table border=\"1\" class=\"dataframe\">\n",
       "  <thead>\n",
       "    <tr style=\"text-align: right;\">\n",
       "      <th></th>\n",
       "      <th>Order ID</th>\n",
       "      <th>Date</th>\n",
       "      <th>Status</th>\n",
       "      <th>Fulfilment</th>\n",
       "      <th>Sales Channel</th>\n",
       "      <th>ship-service-level</th>\n",
       "      <th>Style</th>\n",
       "      <th>SKU</th>\n",
       "      <th>Category</th>\n",
       "      <th>Size</th>\n",
       "      <th>...</th>\n",
       "      <th>Courier Status</th>\n",
       "      <th>Qty</th>\n",
       "      <th>currency</th>\n",
       "      <th>Amount</th>\n",
       "      <th>ship-city</th>\n",
       "      <th>ship-state</th>\n",
       "      <th>ship-postal-code</th>\n",
       "      <th>ship-country</th>\n",
       "      <th>B2B</th>\n",
       "      <th>fulfilled-by</th>\n",
       "    </tr>\n",
       "  </thead>\n",
       "  <tbody>\n",
       "    <tr>\n",
       "      <th>212</th>\n",
       "      <td>408-4547464-4180323</td>\n",
       "      <td>04-30-22</td>\n",
       "      <td>Shipped - Delivered to Buyer</td>\n",
       "      <td>Merchant</td>\n",
       "      <td>Amazon.in</td>\n",
       "      <td>Standard</td>\n",
       "      <td>JNE3568</td>\n",
       "      <td>JNE3568-KR-XXL</td>\n",
       "      <td>kurta</td>\n",
       "      <td>XXL</td>\n",
       "      <td>...</td>\n",
       "      <td>Shipped</td>\n",
       "      <td>1</td>\n",
       "      <td>INR</td>\n",
       "      <td>0.0</td>\n",
       "      <td>BHUBANESWAR</td>\n",
       "      <td>ODISHA</td>\n",
       "      <td>752054.0</td>\n",
       "      <td>IN</td>\n",
       "      <td>False</td>\n",
       "      <td>Easy Ship</td>\n",
       "    </tr>\n",
       "    <tr>\n",
       "      <th>374</th>\n",
       "      <td>408-5020509-5674715</td>\n",
       "      <td>04-30-22</td>\n",
       "      <td>Shipped - Returned to Seller</td>\n",
       "      <td>Merchant</td>\n",
       "      <td>Amazon.in</td>\n",
       "      <td>Standard</td>\n",
       "      <td>JNE3798</td>\n",
       "      <td>JNE3798-KR-M</td>\n",
       "      <td>Western Dress</td>\n",
       "      <td>M</td>\n",
       "      <td>...</td>\n",
       "      <td>Shipped</td>\n",
       "      <td>1</td>\n",
       "      <td>INR</td>\n",
       "      <td>0.0</td>\n",
       "      <td>NEW DELHI</td>\n",
       "      <td>DELHI</td>\n",
       "      <td>110096.0</td>\n",
       "      <td>IN</td>\n",
       "      <td>False</td>\n",
       "      <td>Easy Ship</td>\n",
       "    </tr>\n",
       "    <tr>\n",
       "      <th>385</th>\n",
       "      <td>408-3137526-3167563</td>\n",
       "      <td>04-30-22</td>\n",
       "      <td>Shipped</td>\n",
       "      <td>Amazon</td>\n",
       "      <td>Amazon.in</td>\n",
       "      <td>Standard</td>\n",
       "      <td>JNE3405</td>\n",
       "      <td>JNE3405-KR-L</td>\n",
       "      <td>kurta</td>\n",
       "      <td>L</td>\n",
       "      <td>...</td>\n",
       "      <td>Shipped</td>\n",
       "      <td>1</td>\n",
       "      <td>INR</td>\n",
       "      <td>0.0</td>\n",
       "      <td>DARJEELING</td>\n",
       "      <td>WEST BENGAL</td>\n",
       "      <td>734101.0</td>\n",
       "      <td>IN</td>\n",
       "      <td>False</td>\n",
       "      <td>NaN</td>\n",
       "    </tr>\n",
       "    <tr>\n",
       "      <th>388</th>\n",
       "      <td>408-7971979-8745937</td>\n",
       "      <td>04-30-22</td>\n",
       "      <td>Shipped - Delivered to Buyer</td>\n",
       "      <td>Merchant</td>\n",
       "      <td>Amazon.in</td>\n",
       "      <td>Standard</td>\n",
       "      <td>J0401</td>\n",
       "      <td>J0401-DR-XS</td>\n",
       "      <td>Western Dress</td>\n",
       "      <td>XS</td>\n",
       "      <td>...</td>\n",
       "      <td>Shipped</td>\n",
       "      <td>1</td>\n",
       "      <td>INR</td>\n",
       "      <td>0.0</td>\n",
       "      <td>LUDHIANA</td>\n",
       "      <td>PUNJAB</td>\n",
       "      <td>141001.0</td>\n",
       "      <td>IN</td>\n",
       "      <td>False</td>\n",
       "      <td>Easy Ship</td>\n",
       "    </tr>\n",
       "    <tr>\n",
       "      <th>392</th>\n",
       "      <td>408-0912805-7526753</td>\n",
       "      <td>04-30-22</td>\n",
       "      <td>Shipped</td>\n",
       "      <td>Amazon</td>\n",
       "      <td>Amazon.in</td>\n",
       "      <td>Expedited</td>\n",
       "      <td>SET365</td>\n",
       "      <td>SET365-KR-NP-L</td>\n",
       "      <td>Set</td>\n",
       "      <td>L</td>\n",
       "      <td>...</td>\n",
       "      <td>Shipped</td>\n",
       "      <td>1</td>\n",
       "      <td>INR</td>\n",
       "      <td>0.0</td>\n",
       "      <td>MUMBAI</td>\n",
       "      <td>MAHARASHTRA</td>\n",
       "      <td>400101.0</td>\n",
       "      <td>IN</td>\n",
       "      <td>False</td>\n",
       "      <td>NaN</td>\n",
       "    </tr>\n",
       "    <tr>\n",
       "      <th>...</th>\n",
       "      <td>...</td>\n",
       "      <td>...</td>\n",
       "      <td>...</td>\n",
       "      <td>...</td>\n",
       "      <td>...</td>\n",
       "      <td>...</td>\n",
       "      <td>...</td>\n",
       "      <td>...</td>\n",
       "      <td>...</td>\n",
       "      <td>...</td>\n",
       "      <td>...</td>\n",
       "      <td>...</td>\n",
       "      <td>...</td>\n",
       "      <td>...</td>\n",
       "      <td>...</td>\n",
       "      <td>...</td>\n",
       "      <td>...</td>\n",
       "      <td>...</td>\n",
       "      <td>...</td>\n",
       "      <td>...</td>\n",
       "      <td>...</td>\n",
       "    </tr>\n",
       "    <tr>\n",
       "      <th>73232</th>\n",
       "      <td>408-5256900-7446724</td>\n",
       "      <td>06-13-22</td>\n",
       "      <td>Shipped</td>\n",
       "      <td>Amazon</td>\n",
       "      <td>Amazon.in</td>\n",
       "      <td>Standard</td>\n",
       "      <td>JNE3439</td>\n",
       "      <td>JNE3439-KR-XXL</td>\n",
       "      <td>kurta</td>\n",
       "      <td>XXL</td>\n",
       "      <td>...</td>\n",
       "      <td>Shipped</td>\n",
       "      <td>1</td>\n",
       "      <td>INR</td>\n",
       "      <td>0.0</td>\n",
       "      <td>LUCKNOW</td>\n",
       "      <td>UTTAR PRADESH</td>\n",
       "      <td>226022.0</td>\n",
       "      <td>IN</td>\n",
       "      <td>False</td>\n",
       "      <td>NaN</td>\n",
       "    </tr>\n",
       "    <tr>\n",
       "      <th>73346</th>\n",
       "      <td>408-3337799-3996363</td>\n",
       "      <td>06-13-22</td>\n",
       "      <td>Shipped</td>\n",
       "      <td>Amazon</td>\n",
       "      <td>Amazon.in</td>\n",
       "      <td>Standard</td>\n",
       "      <td>JNE3431</td>\n",
       "      <td>JNE3431-KR-XL</td>\n",
       "      <td>kurta</td>\n",
       "      <td>XL</td>\n",
       "      <td>...</td>\n",
       "      <td>Shipped</td>\n",
       "      <td>1</td>\n",
       "      <td>INR</td>\n",
       "      <td>0.0</td>\n",
       "      <td>CHENNAI</td>\n",
       "      <td>TAMIL NADU</td>\n",
       "      <td>600088.0</td>\n",
       "      <td>IN</td>\n",
       "      <td>False</td>\n",
       "      <td>NaN</td>\n",
       "    </tr>\n",
       "    <tr>\n",
       "      <th>73438</th>\n",
       "      <td>408-9168380-4087502</td>\n",
       "      <td>06-13-22</td>\n",
       "      <td>Shipped - Delivered to Buyer</td>\n",
       "      <td>Merchant</td>\n",
       "      <td>Amazon.in</td>\n",
       "      <td>Standard</td>\n",
       "      <td>JNE3619</td>\n",
       "      <td>JNE3619-KR-M</td>\n",
       "      <td>kurta</td>\n",
       "      <td>M</td>\n",
       "      <td>...</td>\n",
       "      <td>Shipped</td>\n",
       "      <td>1</td>\n",
       "      <td>INR</td>\n",
       "      <td>0.0</td>\n",
       "      <td>VISAKHAPATNAM</td>\n",
       "      <td>ANDHRA PRADESH</td>\n",
       "      <td>531173.0</td>\n",
       "      <td>IN</td>\n",
       "      <td>False</td>\n",
       "      <td>Easy Ship</td>\n",
       "    </tr>\n",
       "    <tr>\n",
       "      <th>73440</th>\n",
       "      <td>408-4459517-5241121</td>\n",
       "      <td>06-13-22</td>\n",
       "      <td>Shipped</td>\n",
       "      <td>Amazon</td>\n",
       "      <td>Amazon.in</td>\n",
       "      <td>Standard</td>\n",
       "      <td>J0372</td>\n",
       "      <td>J0372-SKD-XL</td>\n",
       "      <td>Set</td>\n",
       "      <td>XL</td>\n",
       "      <td>...</td>\n",
       "      <td>Shipped</td>\n",
       "      <td>1</td>\n",
       "      <td>INR</td>\n",
       "      <td>0.0</td>\n",
       "      <td>ALLAHABAD</td>\n",
       "      <td>UTTAR PRADESH</td>\n",
       "      <td>211004.0</td>\n",
       "      <td>IN</td>\n",
       "      <td>False</td>\n",
       "      <td>NaN</td>\n",
       "    </tr>\n",
       "    <tr>\n",
       "      <th>73452</th>\n",
       "      <td>408-9168797-8583552</td>\n",
       "      <td>06-13-22</td>\n",
       "      <td>Shipped</td>\n",
       "      <td>Amazon</td>\n",
       "      <td>Amazon.in</td>\n",
       "      <td>Standard</td>\n",
       "      <td>JNE3611</td>\n",
       "      <td>JNE3611-KR-L</td>\n",
       "      <td>kurta</td>\n",
       "      <td>L</td>\n",
       "      <td>...</td>\n",
       "      <td>Shipped</td>\n",
       "      <td>1</td>\n",
       "      <td>INR</td>\n",
       "      <td>0.0</td>\n",
       "      <td>NEW DELHI</td>\n",
       "      <td>DELHI</td>\n",
       "      <td>110065.0</td>\n",
       "      <td>IN</td>\n",
       "      <td>False</td>\n",
       "      <td>NaN</td>\n",
       "    </tr>\n",
       "  </tbody>\n",
       "</table>\n",
       "<p>1446 rows × 21 columns</p>\n",
       "</div>"
      ],
      "text/plain": [
       "                  Order ID      Date                        Status Fulfilment  \\\n",
       "212    408-4547464-4180323  04-30-22  Shipped - Delivered to Buyer   Merchant   \n",
       "374    408-5020509-5674715  04-30-22  Shipped - Returned to Seller   Merchant   \n",
       "385    408-3137526-3167563  04-30-22                       Shipped     Amazon   \n",
       "388    408-7971979-8745937  04-30-22  Shipped - Delivered to Buyer   Merchant   \n",
       "392    408-0912805-7526753  04-30-22                       Shipped     Amazon   \n",
       "...                    ...       ...                           ...        ...   \n",
       "73232  408-5256900-7446724  06-13-22                       Shipped     Amazon   \n",
       "73346  408-3337799-3996363  06-13-22                       Shipped     Amazon   \n",
       "73438  408-9168380-4087502  06-13-22  Shipped - Delivered to Buyer   Merchant   \n",
       "73440  408-4459517-5241121  06-13-22                       Shipped     Amazon   \n",
       "73452  408-9168797-8583552  06-13-22                       Shipped     Amazon   \n",
       "\n",
       "      Sales Channel ship-service-level    Style             SKU  \\\n",
       "212       Amazon.in           Standard  JNE3568  JNE3568-KR-XXL   \n",
       "374       Amazon.in           Standard  JNE3798    JNE3798-KR-M   \n",
       "385       Amazon.in           Standard  JNE3405    JNE3405-KR-L   \n",
       "388       Amazon.in           Standard    J0401     J0401-DR-XS   \n",
       "392       Amazon.in          Expedited   SET365  SET365-KR-NP-L   \n",
       "...             ...                ...      ...             ...   \n",
       "73232     Amazon.in           Standard  JNE3439  JNE3439-KR-XXL   \n",
       "73346     Amazon.in           Standard  JNE3431   JNE3431-KR-XL   \n",
       "73438     Amazon.in           Standard  JNE3619    JNE3619-KR-M   \n",
       "73440     Amazon.in           Standard    J0372    J0372-SKD-XL   \n",
       "73452     Amazon.in           Standard  JNE3611    JNE3611-KR-L   \n",
       "\n",
       "            Category Size  ... Courier Status Qty  currency Amount  \\\n",
       "212            kurta  XXL  ...        Shipped   1       INR    0.0   \n",
       "374    Western Dress    M  ...        Shipped   1       INR    0.0   \n",
       "385            kurta    L  ...        Shipped   1       INR    0.0   \n",
       "388    Western Dress   XS  ...        Shipped   1       INR    0.0   \n",
       "392              Set    L  ...        Shipped   1       INR    0.0   \n",
       "...              ...  ...  ...            ...  ..       ...    ...   \n",
       "73232          kurta  XXL  ...        Shipped   1       INR    0.0   \n",
       "73346          kurta   XL  ...        Shipped   1       INR    0.0   \n",
       "73438          kurta    M  ...        Shipped   1       INR    0.0   \n",
       "73440            Set   XL  ...        Shipped   1       INR    0.0   \n",
       "73452          kurta    L  ...        Shipped   1       INR    0.0   \n",
       "\n",
       "           ship-city      ship-state ship-postal-code  ship-country    B2B  \\\n",
       "212      BHUBANESWAR          ODISHA         752054.0            IN  False   \n",
       "374        NEW DELHI           DELHI         110096.0            IN  False   \n",
       "385       DARJEELING     WEST BENGAL         734101.0            IN  False   \n",
       "388         LUDHIANA          PUNJAB         141001.0            IN  False   \n",
       "392           MUMBAI     MAHARASHTRA         400101.0            IN  False   \n",
       "...              ...             ...              ...           ...    ...   \n",
       "73232        LUCKNOW   UTTAR PRADESH         226022.0            IN  False   \n",
       "73346        CHENNAI      TAMIL NADU         600088.0            IN  False   \n",
       "73438  VISAKHAPATNAM  ANDHRA PRADESH         531173.0            IN  False   \n",
       "73440      ALLAHABAD   UTTAR PRADESH         211004.0            IN  False   \n",
       "73452      NEW DELHI           DELHI         110065.0            IN  False   \n",
       "\n",
       "       fulfilled-by  \n",
       "212       Easy Ship  \n",
       "374       Easy Ship  \n",
       "385             NaN  \n",
       "388       Easy Ship  \n",
       "392             NaN  \n",
       "...             ...  \n",
       "73232           NaN  \n",
       "73346           NaN  \n",
       "73438     Easy Ship  \n",
       "73440           NaN  \n",
       "73452           NaN  \n",
       "\n",
       "[1446 rows x 21 columns]"
      ]
     },
     "execution_count": 8,
     "metadata": {},
     "output_type": "execute_result"
    }
   ],
   "source": [
    "sale_data['Amount'].fillna(value=0,inplace=True)\n",
    "sale_data[sale_data['Amount'].isin([0])]"
   ]
  },
  {
   "cell_type": "markdown",
   "id": "357ff45f",
   "metadata": {},
   "source": [
    "## 6.统计配送订单数量前10的城市（city）（1分）"
   ]
  },
  {
   "cell_type": "code",
   "execution_count": null,
   "id": "f35bd003",
   "metadata": {},
   "outputs": [],
   "source": [
    "\n"
   ]
  },
  {
   "cell_type": "code",
   "execution_count": 9,
   "id": "abc888a1",
   "metadata": {},
   "outputs": [
    {
     "data": {
      "text/plain": [
       "ship-city\n",
       "BENGALURU    5860\n",
       "HYDERABAD    4251\n",
       "MUMBAI       3172\n",
       "NEW DELHI    2924\n",
       "CHENNAI      2764\n",
       "PUNE         2005\n",
       "KOLKATA      1221\n",
       "GURUGRAM     1029\n",
       "THANE         856\n",
       "NOIDA         751\n",
       "Name: count, dtype: int64"
      ]
     },
     "execution_count": 9,
     "metadata": {},
     "output_type": "execute_result"
    }
   ],
   "source": [
    "sale_data['ship-city'].value_counts(ascending=False).head(10)"
   ]
  },
  {
   "cell_type": "markdown",
   "id": "6b077861",
   "metadata": {},
   "source": [
    "## 7. 销售渠道（sales channel）中不同配送方式（ship-service-level）各有多少订单？(1分)"
   ]
  },
  {
   "cell_type": "code",
   "execution_count": 10,
   "id": "119d35c2",
   "metadata": {},
   "outputs": [
    {
     "data": {
      "text/plain": [
       "Sales Channel  ship-service-level\n",
       "Amazon.in      Expedited             45486\n",
       "               Standard              20633\n",
       "Non-Amazon     Standard                 76\n",
       "dtype: int64"
      ]
     },
     "execution_count": 10,
     "metadata": {},
     "output_type": "execute_result"
    }
   ],
   "source": [
    "sale_data.groupby(['Sales Channel','ship-service-level']).size()"
   ]
  },
  {
   "cell_type": "markdown",
   "id": "4fc7f24d",
   "metadata": {},
   "source": [
    "## 8. 筛选出同一笔订单中购买两个以上商品的Style有哪些？\n",
    "### a. 检查订单ID的重复情况。（共计多少个重复订单？）（0.5分）\n",
    "### b.给出相同订单同时购买的商品Style列表。（0.5分）"
   ]
  },
  {
   "cell_type": "code",
   "execution_count": 11,
   "id": "8bfa0102",
   "metadata": {},
   "outputs": [
    {
     "data": {
      "text/plain": [
       "4442"
      ]
     },
     "execution_count": 11,
     "metadata": {},
     "output_type": "execute_result"
    }
   ],
   "source": [
    "len(sale_data[sale_data.duplicated(subset='Order ID')])"
   ]
  },
  {
   "cell_type": "code",
   "execution_count": 12,
   "id": "a724bc13",
   "metadata": {},
   "outputs": [
    {
     "name": "stdout",
     "output_type": "stream",
     "text": [
      "Order ID\n",
      "171-0014231-7760344       [SET342, J0224]\n",
      "171-0015435-1981904    [JNE3611, JNE3794]\n",
      "171-0019960-6156301      [SET334, SET331]\n",
      "171-0032816-1151573      [JNE3652, NW037]\n",
      "171-0036605-7601963      [SET342, SET402]\n",
      "                              ...        \n",
      "408-9823927-1281934      [JNE3741, J0353]\n",
      "408-9844771-3172335      [SET230, SET233]\n",
      "408-9857809-5032314        [J0277, J0281]\n",
      "408-9876890-8309916        [J0335, J0341]\n",
      "408-9918322-1697932      [SET344, SET293]\n",
      "Name: Style, Length: 3357, dtype: object\n"
     ]
    }
   ],
   "source": [
    "duplicate_orders = sale_data[sale_data.duplicated(subset=['Order ID'], keep=False)]\n",
    "duplicate_orders_styles = duplicate_orders.groupby('Order ID')['Style'].unique()\n",
    "duplicate_orders_styles = duplicate_orders_styles[duplicate_orders_styles.apply(len) >= 2]\n",
    "print(duplicate_orders_styles)\n"
   ]
  },
  {
   "cell_type": "markdown",
   "id": "1a19f94f",
   "metadata": {},
   "source": [
    "## 9. B2B和非B2B用户的购买力如何？\n",
    "### a. 统计两类用户的总销售金额和总销量。（1分）\n",
    "【注：需要将取值False替换为‘Non-B2B',取值True替换为'B2B',使你的答案更具有可读性】\n",
    "### b. 分别统计两类用户畅销TOP5（销售金额、销量）的商品有哪些。（1.5分）"
   ]
  },
  {
   "cell_type": "code",
   "execution_count": 13,
   "id": "77df0f93",
   "metadata": {},
   "outputs": [
    {
     "name": "stdout",
     "output_type": "stream",
     "text": [
      "总额：\n",
      "366823.0\n",
      "42709315.0\n"
     ]
    }
   ],
   "source": [
    "sale_data['B2B'].replace({True:'B2B',False:'Non-B2B'})\n",
    "b2bsum = sale_data[sale_data['B2B'] == True]['Amount'].sum()\n",
    "no_b2bsum = sale_data[sale_data['B2B'] == False]['Amount'].sum()\n",
    "print('总额：')\n",
    "print(b2bsum)\n",
    "print(no_b2bsum)"
   ]
  },
  {
   "cell_type": "code",
   "execution_count": 14,
   "id": "aa4c514d",
   "metadata": {},
   "outputs": [
    {
     "data": {
      "text/plain": [
       "528"
      ]
     },
     "execution_count": 14,
     "metadata": {},
     "output_type": "execute_result"
    }
   ],
   "source": [
    "sale_data[sale_data['B2B'] == True]['Qty'].sum()"
   ]
  },
  {
   "cell_type": "code",
   "execution_count": 15,
   "id": "7a9cf80f",
   "metadata": {},
   "outputs": [
    {
     "data": {
      "text/plain": [
       "65908"
      ]
     },
     "execution_count": 15,
     "metadata": {},
     "output_type": "execute_result"
    }
   ],
   "source": [
    "sale_data[sale_data['B2B'] == False]['Qty'].sum()"
   ]
  },
  {
   "cell_type": "code",
   "execution_count": 16,
   "id": "694d723d",
   "metadata": {},
   "outputs": [
    {
     "data": {
      "text/plain": [
       "Category\n",
       "Set              209\n",
       "kurta            195\n",
       "Western Dress     64\n",
       "Top               29\n",
       "Ethnic Dress       9\n",
       "Blouse             6\n",
       "Bottom             3\n",
       "Saree              1\n",
       "Name: Qty, dtype: int64"
      ]
     },
     "execution_count": 16,
     "metadata": {},
     "output_type": "execute_result"
    }
   ],
   "source": [
    "sale_data[sale_data['B2B'] == True].groupby('Category')['Qty'].count().sort_values(ascending=False)"
   ]
  },
  {
   "cell_type": "code",
   "execution_count": 17,
   "id": "fdf5a4ed",
   "metadata": {},
   "outputs": [
    {
     "name": "stdout",
     "output_type": "stream",
     "text": [
      "Category\n",
      "Set              209\n",
      "kurta            195\n",
      "Western Dress     64\n",
      "Top               29\n",
      "Ethnic Dress       9\n",
      "Name: Qty, dtype: int64\n",
      "Category\n",
      "Set              25212\n",
      "kurta            24921\n",
      "Western Dress     8320\n",
      "Top               5767\n",
      "Ethnic Dress       586\n",
      "Name: Qty, dtype: int64\n",
      "Category\n",
      "Set              209\n",
      "kurta            195\n",
      "Western Dress     64\n",
      "Top               29\n",
      "Ethnic Dress       9\n",
      "Name: Amount, dtype: int64\n",
      "Category\n",
      "Set              25212\n",
      "kurta            24921\n",
      "Western Dress     8320\n",
      "Top               5767\n",
      "Ethnic Dress       586\n",
      "Name: Amount, dtype: int64\n"
     ]
    }
   ],
   "source": [
    "print(sale_data[sale_data['B2B'] == True].groupby('Category')['Qty'].count().sort_values(ascending=False).head(5))\n",
    "print(sale_data[sale_data['B2B'] == False].groupby('Category')['Qty'].count().sort_values(ascending=False).head(5))\n",
    "print(sale_data[sale_data['B2B'] == True].groupby('Category')['Amount'].count().sort_values(ascending=False).head(5))\n",
    "print(sale_data[sale_data['B2B'] == False].groupby('Category')['Amount'].count().sort_values(ascending=False).head(5))"
   ]
  },
  {
   "cell_type": "markdown",
   "id": "4578ff9b",
   "metadata": {},
   "source": []
  },
  {
   "cell_type": "code",
   "execution_count": null,
   "id": "9f598299",
   "metadata": {},
   "outputs": [],
   "source": []
  },
  {
   "cell_type": "markdown",
   "id": "05176a7f",
   "metadata": {},
   "source": [
    "## 10.分别统计4-6月订单销量TOP3的商品以及各月销售金额TOP3的品类（1.5分）\n",
    "## 数据集各字段释义：\n",
    "'Category'：Type of product.<br />\n",
    "'Size'：Size of the product.<br />\n",
    "'Date'：Date of the sale. <br />\n",
    "'Status'：Status of the sale. <br />\n",
    "'Fulfilment'：Method of fulfilment. <br />\n",
    "'Style'：Style of the product. <br />\n",
    "'SKU'：Stock Keeping Unit.【tips:该字段作为判断单个商品的ID】<br />\n",
    "'ASIN'：Amazon Standard Identification Number. <br />\n",
    "'Courier Status'：Status of the courier. <br />\n",
    "'Qty'：Quantity of the product. <br />\n",
    "'Amount'：Amount of the sale. <br />\n",
    "'B2B'：Business to business sale. <br />\n",
    "'Currency'：The currency used for the sale.<br />"
   ]
  },
  {
   "cell_type": "code",
   "execution_count": 18,
   "id": "e2158587",
   "metadata": {},
   "outputs": [
    {
     "name": "stderr",
     "output_type": "stream",
     "text": [
      "C:\\Users\\lenovo\\AppData\\Local\\Temp\\ipykernel_18752\\460181689.py:2: UserWarning: Could not infer format, so each element will be parsed individually, falling back to `dateutil`. To ensure parsing is consistent and as-expected, please specify a format.\n",
      "  data['Date'] = pd.to_datetime(data['Date'])\n"
     ]
    },
    {
     "data": {
      "text/plain": [
       "SKU\n",
       "JNE3797-KR-L    353\n",
       "JNE3797-KR-S    311\n",
       "JNE3797-KR-M    298\n",
       "Name: Qty, dtype: int64"
      ]
     },
     "execution_count": 18,
     "metadata": {},
     "output_type": "execute_result"
    }
   ],
   "source": [
    "data = sale_data\n",
    "data['Date'] = pd.to_datetime(data['Date'])\n",
    "\n",
    "# 筛选出4-6月份的订单数据\n",
    "data_4_to_6 = data[(data['Date'].dt.month >= 4) & (data['Date'].dt.month <= 6)]\n",
    "\n",
    "# 统计销量TOP3的商品\n",
    "top3_products_qty = data_4_to_6.groupby('SKU')['Qty'].sum().nlargest(3)\n",
    "top3_products_qty"
   ]
  },
  {
   "cell_type": "code",
   "execution_count": 19,
   "id": "a03544bc",
   "metadata": {},
   "outputs": [
    {
     "data": {
      "text/plain": [
       "Category\n",
       "Set              21245549.0\n",
       "kurta            11529664.0\n",
       "Western Dress     6390362.0\n",
       "Name: Amount, dtype: float64"
      ]
     },
     "execution_count": 19,
     "metadata": {},
     "output_type": "execute_result"
    }
   ],
   "source": [
    "#4-6\n",
    "data_4_to_6.groupby('Category')['Amount'].sum().nlargest(3)"
   ]
  }
 ],
 "metadata": {
  "kernelspec": {
   "display_name": "Python 3 (ipykernel)",
   "language": "python",
   "name": "python3"
  },
  "language_info": {
   "codemirror_mode": {
    "name": "ipython",
    "version": 3
   },
   "file_extension": ".py",
   "mimetype": "text/x-python",
   "name": "python",
   "nbconvert_exporter": "python",
   "pygments_lexer": "ipython3",
   "version": "3.11.0"
  }
 },
 "nbformat": 4,
 "nbformat_minor": 5
}
