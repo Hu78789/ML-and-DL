{
 "cells": [
  {
   "cell_type": "markdown",
   "metadata": {},
   "source": [
    "### 安装包\n",
    "> pip install wordcloud  \n",
    "> pip install jieba"
   ]
  },
  {
   "cell_type": "markdown",
   "metadata": {},
   "source": [
    "使用数据为2023年政府工作报告全文  \n",
    "文件：\"政府工作报告2023.txt\"  \n",
    "原文地址： \n",
    "> http://jsj.weifang.gov.cn/jsdt/gzdt/202303/t20230316_6175764.html  "
   ]
  },
  {
   "cell_type": "code",
   "execution_count": 1,
   "metadata": {},
   "outputs": [],
   "source": [
    "import jieba\n",
    "from wordcloud import WordCloud\n",
    "from skimage import io\n",
    "import os\n",
    "import numpy as np\n",
    "import PIL"
   ]
  },
  {
   "cell_type": "code",
   "execution_count": 2,
   "metadata": {},
   "outputs": [],
   "source": [
    "def chinese_jieba(txt):\n",
    "    wordlist_jieba = jieba.cut(txt) # 将文本分割，返回列表\n",
    "    txt_jieba = \" \".join(wordlist_jieba) # 将列表拼接为以空格为间断的字符串\n",
    "    return txt_jieba"
   ]
  },
  {
   "cell_type": "code",
   "execution_count": 3,
   "metadata": {},
   "outputs": [
    {
     "name": "stderr",
     "output_type": "stream",
     "text": [
      "Building prefix dict from the default dictionary ...\n",
      "Dumping model to file cache C:\\Users\\ThinkPad\\AppData\\Local\\Temp\\jieba.cache\n",
      "Loading model cost 0.542 seconds.\n",
      "Prefix dict has been built successfully.\n"
     ]
    }
   ],
   "source": [
    "stopwords = {'这些', '那些', '因为', '所以', '和', '的'} \n",
    "cloud_mask = np.array(PIL.Image.open('air.jpg'))\n",
    "with open('政府工作报告2024.txt', encoding = 'utf8') as fp:\n",
    "    txt = fp.read()\n",
    "    cutted_text = chinese_jieba(txt)\n",
    "    \n",
    "# print(txt)\n",
    "wordcloud = WordCloud(font_path = r'C:\\Windows\\Fonts\\STKAITI.TTF', # 字体\n",
    "                      background_color = 'white', # 背景色\n",
    "                      max_words = 80, # 最大显示单词数\n",
    "                      max_font_size = 80, # 频率最大单词字体大小\n",
    "                      mask = cloud_mask, # 词云形状mask\n",
    "                      stopwords = stopwords # 过滤停用词\n",
    "                     ).generate(cutted_text)\n",
    "image = wordcloud.to_image()\n",
    "image.show()"
   ]
  },
  {
   "cell_type": "code",
   "execution_count": 4,
   "metadata": {},
   "outputs": [],
   "source": [
    "image.save(\"ciyun.png\")"
   ]
  }
 ],
 "metadata": {
  "kernelspec": {
   "display_name": "Python 3 (ipykernel)",
   "language": "python",
   "name": "python3"
  },
  "language_info": {
   "codemirror_mode": {
    "name": "ipython",
    "version": 3
   },
   "file_extension": ".py",
   "mimetype": "text/x-python",
   "name": "python",
   "nbconvert_exporter": "python",
   "pygments_lexer": "ipython3",
   "version": "3.9.7"
  }
 },
 "nbformat": 4,
 "nbformat_minor": 4
}
